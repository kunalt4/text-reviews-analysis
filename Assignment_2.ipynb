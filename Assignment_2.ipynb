{
 "cells": [
  {
   "cell_type": "markdown",
   "metadata": {},
   "source": [
    "**COMP41680: Data Science in Python<br>**\n",
    "**Assignment 2<br>**\n",
    "\n",
    "Name: **Kunal J. Tolani**<br>\n",
    "Student ID: **19200153**"
   ]
  },
  {
   "cell_type": "markdown",
   "metadata": {},
   "source": [
    "## Imports"
   ]
  },
  {
   "cell_type": "code",
   "execution_count": 1,
   "metadata": {},
   "outputs": [],
   "source": [
    "from requests import get\n",
    "from bs4 import BeautifulSoup\n",
    "import pandas as pd\n",
    "import numpy as np\n",
    "import nltk\n",
    "import string\n",
    "from nltk.corpus import stopwords\n",
    "from sklearn.feature_extraction.text import TfidfVectorizer\n",
    "from sklearn.ensemble import RandomForestClassifier\n",
    "from sklearn.model_selection import GridSearchCV, train_test_split\n",
    "from sklearn.metrics import accuracy_score, confusion_matrix, roc_curve, auc, classification_report\n",
    "from sklearn.naive_bayes import MultinomialNB\n",
    "from sklearn.linear_model import LogisticRegression\n",
    "import matplotlib.pyplot as plt"
   ]
  },
  {
   "cell_type": "markdown",
   "metadata": {},
   "source": [
    "## Get Data\n",
    "\n",
    "For the data, we scrape through http://mlg.ucd.ie/modules/yalp/ to fetch reviews of each businesses in three categories - Cafes, Hotels and Restaurants. The reviews are divided into positive and negative based on the number of stars they have."
   ]
  },
  {
   "cell_type": "markdown",
   "metadata": {},
   "source": [
    "### Create DataFrames"
   ]
  },
  {
   "cell_type": "code",
   "execution_count": 2,
   "metadata": {},
   "outputs": [],
   "source": [
    "#Create dataframes for the three categories\n",
    "\n",
    "cafes_df = pd.DataFrame(columns=[\"Review\",\"Label\"])\n",
    "hotels_df = pd.DataFrame(columns=[\"Review\",\"Label\"])\n",
    "restaurants_df = pd.DataFrame(columns=[\"Review\",\"Label\"])\n",
    "\n",
    "#Create a list of dataframes to append to later\n",
    "df_list = [cafes_df,hotels_df,restaurants_df]"
   ]
  },
  {
   "cell_type": "markdown",
   "metadata": {},
   "source": [
    "### Scraping data\n",
    "`get_category_urls()` functions is passed three categories, and it returns the urls for each of those. These urls are then passed on to the `get_reviews()` function, which goes through each url and gets positive and negative reviews for each business in each URL."
   ]
  },
  {
   "cell_type": "code",
   "execution_count": 3,
   "metadata": {},
   "outputs": [],
   "source": [
    "def get_category_urls(three_categories = [\"Cafes\",\"Hotels\",\"Restaurants\"]):\n",
    "    url = \"http://mlg.ucd.ie/modules/yalp/\"  #url to fetch\n",
    "    response = get(url) #get response\n",
    "    html_soup = BeautifulSoup(response.text , 'html.parser') #create soup object\n",
    "    categories = html_soup.find_all(\"h4\") #Find all h4 tags on the page\n",
    "    url_cat = [] #list to store urls\n",
    "    for cat in categories:  #for each h4 tag\n",
    "        category = cat.find('a').text.split(\" \")[1]  #get category name\n",
    "        if category in three_categories: #if category in three specified categories\n",
    "            url_cat.append(url+cat.find('a')['href'])  #add url to list\n",
    "    return url_cat  #return category url list"
   ]
  },
  {
   "cell_type": "code",
   "execution_count": 4,
   "metadata": {},
   "outputs": [],
   "source": [
    "def get_reviews(url_cat, df_list):  #Pass the category url list \n",
    "    url = \"http://mlg.ucd.ie/modules/yalp/\"\n",
    "    i = 0\n",
    "    for new_url in url_cat:  #For each category\n",
    "        url_response = get(new_url)  #Get response\n",
    "        html_cat_soup = BeautifulSoup(url_response.text, 'html.parser')  #create soup object\n",
    "        for business in html_cat_soup.find_all(\"h5\"):  #For each business in category\n",
    "            reviews_response=get(url+business.find('a')['href'])  #find urls of each business\n",
    "            reviews_soup = BeautifulSoup(reviews_response.text , 'html.parser')  #create soup object for each business\n",
    "            j = 0\n",
    "            for t in reviews_soup.find_all('img', alt=True): #get all reviews \n",
    "                rev_num = int(t['alt'].split(\"-\")[0]) #get number of stars from alt of image\n",
    "                rev = reviews_soup.find_all('p', class_='review-text')[j].text #get image text\n",
    "                if rev_num > 3:\n",
    "                    list_append = [rev,\"Positive\"] #Positive if stars more than 3\n",
    "                else:\n",
    "                    list_append = [rev,\"Negative\"]  #Else negative review\n",
    "                s = pd.Series(list_append, index=df_list[i].columns)\n",
    "                df_list[i] = df_list[i].append(s, ignore_index=True)  #add to dataframe\n",
    "                \n",
    "                j+=1\n",
    "        i+=1\n",
    "            "
   ]
  },
  {
   "cell_type": "code",
   "execution_count": 5,
   "metadata": {},
   "outputs": [],
   "source": [
    "url_cat = get_category_urls()  #get urls\n",
    "get_reviews(url_cat, df_list)  #get reviews and label"
   ]
  },
  {
   "cell_type": "code",
   "execution_count": 6,
   "metadata": {},
   "outputs": [],
   "source": [
    "#Create three separate dataframes\n",
    "\n",
    "cafes_df = df_list[0]\n",
    "hotels_df = df_list[1]\n",
    "restaurants_df = df_list[2] "
   ]
  },
  {
   "cell_type": "code",
   "execution_count": 28,
   "metadata": {},
   "outputs": [],
   "source": [
    "#Reading from csv for future-proofing\n",
    "\n",
    "cafes_df=pd.read_csv(\"cafes.csv\")\n",
    "hotels_df=pd.read_csv(\"hotels.csv\")\n",
    "restaurants_df=pd.read_csv(\"restaurants.csv\")"
   ]
  },
  {
   "cell_type": "code",
   "execution_count": 8,
   "metadata": {},
   "outputs": [],
   "source": [
    "cafes_df.to_csv(\"cafes.csv\", index=False)\n",
    "hotels_df.to_csv(\"hotels.csv\", index=False)\n",
    "restaurants_df.to_csv(\"restaurants.csv\", index=False)"
   ]
  },
  {
   "cell_type": "markdown",
   "metadata": {},
   "source": [
    "The DataFrames for each Category is of the form:"
   ]
  },
  {
   "cell_type": "code",
   "execution_count": 29,
   "metadata": {},
   "outputs": [
    {
     "name": "stdout",
     "output_type": "stream",
     "text": [
      "Cafes DF:\n"
     ]
    },
    {
     "data": {
      "text/html": [
       "<div>\n",
       "<style scoped>\n",
       "    .dataframe tbody tr th:only-of-type {\n",
       "        vertical-align: middle;\n",
       "    }\n",
       "\n",
       "    .dataframe tbody tr th {\n",
       "        vertical-align: top;\n",
       "    }\n",
       "\n",
       "    .dataframe thead th {\n",
       "        text-align: right;\n",
       "    }\n",
       "</style>\n",
       "<table border=\"1\" class=\"dataframe\">\n",
       "  <thead>\n",
       "    <tr style=\"text-align: right;\">\n",
       "      <th></th>\n",
       "      <th>Review</th>\n",
       "      <th>Label</th>\n",
       "    </tr>\n",
       "  </thead>\n",
       "  <tbody>\n",
       "    <tr>\n",
       "      <th>0</th>\n",
       "      <td>Pros: Lots of items you would not expect from ...</td>\n",
       "      <td>Positive</td>\n",
       "    </tr>\n",
       "    <tr>\n",
       "      <th>1</th>\n",
       "      <td>Best egg-tarts in town! There's really not muc...</td>\n",
       "      <td>Positive</td>\n",
       "    </tr>\n",
       "    <tr>\n",
       "      <th>2</th>\n",
       "      <td>I've been to ABC Bakery a few times since I re...</td>\n",
       "      <td>Negative</td>\n",
       "    </tr>\n",
       "    <tr>\n",
       "      <th>3</th>\n",
       "      <td>FYI, Closed Monday's New ownership for about 1...</td>\n",
       "      <td>Negative</td>\n",
       "    </tr>\n",
       "    <tr>\n",
       "      <th>4</th>\n",
       "      <td>The inside may not look like much but they mak...</td>\n",
       "      <td>Positive</td>\n",
       "    </tr>\n",
       "  </tbody>\n",
       "</table>\n",
       "</div>"
      ],
      "text/plain": [
       "                                              Review     Label\n",
       "0  Pros: Lots of items you would not expect from ...  Positive\n",
       "1  Best egg-tarts in town! There's really not muc...  Positive\n",
       "2  I've been to ABC Bakery a few times since I re...  Negative\n",
       "3  FYI, Closed Monday's New ownership for about 1...  Negative\n",
       "4  The inside may not look like much but they mak...  Positive"
      ]
     },
     "metadata": {},
     "output_type": "display_data"
    },
    {
     "name": "stdout",
     "output_type": "stream",
     "text": [
      "Hotels DF:\n"
     ]
    },
    {
     "data": {
      "text/html": [
       "<div>\n",
       "<style scoped>\n",
       "    .dataframe tbody tr th:only-of-type {\n",
       "        vertical-align: middle;\n",
       "    }\n",
       "\n",
       "    .dataframe tbody tr th {\n",
       "        vertical-align: top;\n",
       "    }\n",
       "\n",
       "    .dataframe thead th {\n",
       "        text-align: right;\n",
       "    }\n",
       "</style>\n",
       "<table border=\"1\" class=\"dataframe\">\n",
       "  <thead>\n",
       "    <tr style=\"text-align: right;\">\n",
       "      <th></th>\n",
       "      <th>Review</th>\n",
       "      <th>Label</th>\n",
       "    </tr>\n",
       "  </thead>\n",
       "  <tbody>\n",
       "    <tr>\n",
       "      <th>0</th>\n",
       "      <td>Melissa took us on a tour of Asia in the space...</td>\n",
       "      <td>Positive</td>\n",
       "    </tr>\n",
       "    <tr>\n",
       "      <th>1</th>\n",
       "      <td>With a group of seven of us visiting Montreal ...</td>\n",
       "      <td>Positive</td>\n",
       "    </tr>\n",
       "    <tr>\n",
       "      <th>2</th>\n",
       "      <td>Melissa is a gem! My fiancÃ© found her tour on...</td>\n",
       "      <td>Positive</td>\n",
       "    </tr>\n",
       "    <tr>\n",
       "      <th>3</th>\n",
       "      <td>A perfect day in Montreal! Melissa outfitted u...</td>\n",
       "      <td>Positive</td>\n",
       "    </tr>\n",
       "    <tr>\n",
       "      <th>4</th>\n",
       "      <td>I had a really great food truck tour with Meli...</td>\n",
       "      <td>Positive</td>\n",
       "    </tr>\n",
       "  </tbody>\n",
       "</table>\n",
       "</div>"
      ],
      "text/plain": [
       "                                              Review     Label\n",
       "0  Melissa took us on a tour of Asia in the space...  Positive\n",
       "1  With a group of seven of us visiting Montreal ...  Positive\n",
       "2  Melissa is a gem! My fiancÃ© found her tour on...  Positive\n",
       "3  A perfect day in Montreal! Melissa outfitted u...  Positive\n",
       "4  I had a really great food truck tour with Meli...  Positive"
      ]
     },
     "metadata": {},
     "output_type": "display_data"
    },
    {
     "name": "stdout",
     "output_type": "stream",
     "text": [
      "Restaurants DF:\n"
     ]
    },
    {
     "data": {
      "text/html": [
       "<div>\n",
       "<style scoped>\n",
       "    .dataframe tbody tr th:only-of-type {\n",
       "        vertical-align: middle;\n",
       "    }\n",
       "\n",
       "    .dataframe tbody tr th {\n",
       "        vertical-align: top;\n",
       "    }\n",
       "\n",
       "    .dataframe thead th {\n",
       "        text-align: right;\n",
       "    }\n",
       "</style>\n",
       "<table border=\"1\" class=\"dataframe\">\n",
       "  <thead>\n",
       "    <tr style=\"text-align: right;\">\n",
       "      <th></th>\n",
       "      <th>Review</th>\n",
       "      <th>Label</th>\n",
       "    </tr>\n",
       "  </thead>\n",
       "  <tbody>\n",
       "    <tr>\n",
       "      <th>0</th>\n",
       "      <td>My husband and I had a rare afternoon off so w...</td>\n",
       "      <td>Negative</td>\n",
       "    </tr>\n",
       "    <tr>\n",
       "      <th>1</th>\n",
       "      <td>For years I thought this was only a wine store...</td>\n",
       "      <td>Positive</td>\n",
       "    </tr>\n",
       "    <tr>\n",
       "      <th>2</th>\n",
       "      <td>This place is so charming! I went with my husb...</td>\n",
       "      <td>Positive</td>\n",
       "    </tr>\n",
       "    <tr>\n",
       "      <th>3</th>\n",
       "      <td>We have been wanting to try this place for a c...</td>\n",
       "      <td>Positive</td>\n",
       "    </tr>\n",
       "    <tr>\n",
       "      <th>4</th>\n",
       "      <td>Decor looks ok but layout is too busy. Difficu...</td>\n",
       "      <td>Negative</td>\n",
       "    </tr>\n",
       "  </tbody>\n",
       "</table>\n",
       "</div>"
      ],
      "text/plain": [
       "                                              Review     Label\n",
       "0  My husband and I had a rare afternoon off so w...  Negative\n",
       "1  For years I thought this was only a wine store...  Positive\n",
       "2  This place is so charming! I went with my husb...  Positive\n",
       "3  We have been wanting to try this place for a c...  Positive\n",
       "4  Decor looks ok but layout is too busy. Difficu...  Negative"
      ]
     },
     "metadata": {},
     "output_type": "display_data"
    }
   ],
   "source": [
    "print(\"Cafes DF:\")\n",
    "display(cafes_df.head())\n",
    "print(\"Hotels DF:\")\n",
    "display(hotels_df.head())\n",
    "print(\"Restaurants DF:\")\n",
    "display(restaurants_df.head())"
   ]
  },
  {
   "cell_type": "markdown",
   "metadata": {},
   "source": [
    "## Preprocessing and cleaning up textual data"
   ]
  },
  {
   "cell_type": "markdown",
   "metadata": {},
   "source": [
    "For **preprocessing**, we perform the following steps:\n",
    "* **Tokenization** - seperate the sentences into tokens\n",
    "* Removal of **punctuations.**\n",
    "* Removing **stopwords.**\n",
    "* **Normalization** - ensuring all tokens are lowercase\n",
    "* **POS tagging** and converting POS tags to **WordNet** form - tagging every token with a part of speech - this will be essential for lemmatization\n",
    "* **Lemmatization** - Finding lemmas in the dictionary and grouping together words with same lemma / root. "
   ]
  },
  {
   "cell_type": "code",
   "execution_count": 10,
   "metadata": {},
   "outputs": [],
   "source": [
    "#preprocess and return lemmatized strings\n",
    "\n",
    "def preprocess_dfs(df):   \n",
    "    stop = set(stopwords.words('english')) #english stopwords\n",
    "\n",
    "    #seperate x and y\n",
    "    X_df = df['Review']\n",
    "    y_df = df['Label']\n",
    "\n",
    "    X_list = list(df['Review'])\n",
    "\n",
    "    #tokenization\n",
    "    tokens = []\n",
    "    for review in X_list:\n",
    "        review = review.translate(review.maketrans('', '', string.punctuation))\n",
    "        tokens.append(nltk.word_tokenize(review))\n",
    "\n",
    "    #remove stopwords and normalize\n",
    "    pos_tokens = []\n",
    "    for docs in range(len(tokens)):\n",
    "        tokens[docs] = [w.lower() for w in tokens[docs]]\n",
    "        tokens[docs] = [w for w in tokens[docs] if w not in stop]\n",
    "        pos_tokens.append(nltk.pos_tag(tokens[docs]))\n",
    "\n",
    "    #get wordnet tags\n",
    "    def convert_tags_to_wordnet(tag):\n",
    "        if tag.startswith('V'):\n",
    "            return 'v'\n",
    "        elif tag.startswith('J'):\n",
    "            return 'a'\n",
    "        elif tag.startswith('R'):\n",
    "            return 'r'\n",
    "        elif tag.startswith('N'):\n",
    "            return 'n'\n",
    "        else:\n",
    "            return None\n",
    "\n",
    "    #lemmatization\n",
    "    lemma = nltk.WordNetLemmatizer()\n",
    "    lemmatized_words = []\n",
    "\n",
    "    for token in pos_tokens:\n",
    "        w = []\n",
    "        for word in token:\n",
    "            converted_tag = convert_tags_to_wordnet(word[1])\n",
    "            if(converted_tag is not None):\n",
    "                out = lemma.lemmatize(word[0],converted_tag)\n",
    "                w.append(out)\n",
    "        lemmatized_words.append(w)\n",
    "\n",
    "    #covert list of tokens to strings\n",
    "    seperator = ' '\n",
    "    for words in range(len(lemmatized_words)):\n",
    "        lemmatized_words[words] = seperator.join(lemmatized_words[words])\n",
    "    \n",
    "    y_df = [1 if y=='Positive' else 0 for y in list(y_df)]\n",
    "    \n",
    "    return (lemmatized_words, pd.Series(y_df))\n",
    "    "
   ]
  },
  {
   "cell_type": "code",
   "execution_count": 11,
   "metadata": {},
   "outputs": [],
   "source": [
    "(cafes_lemma, y_cafe) = preprocess_dfs(cafes_df)\n",
    "(hotels_lemma, y_hotel) = preprocess_dfs(hotels_df)\n",
    "(restaurants_lemma, y_restaurant) = preprocess_dfs(restaurants_df)"
   ]
  },
  {
   "cell_type": "markdown",
   "metadata": {},
   "source": [
    "The output of preprocessing is a list of reviews for each category - with stopwords removed and words lemmatized."
   ]
  },
  {
   "cell_type": "code",
   "execution_count": 12,
   "metadata": {},
   "outputs": [
    {
     "data": {
      "text/plain": [
       "['pro lot item expect chinese bakery friendly owner great value con service slow busy read previous review apparently owner place change recently never experienced place previous owner base review abc standard chinese bakery lot hot food order well always see place come plaza dim sum look small outside there large amount table space come abc item expect chinese bakery breakfast couple combos great value ion opinion get combo include beef brisket noodle egg sandwich large cold milk tea beef brisket noodle great amount brisket good amount veggie boot normally get veggie love owner seem pa type ownership nice friendly english use work try hard get understanding dont speak chinese seem work front kitchen staff back get super busy expect wait time im really glad decide try place see come instead dont want wait dim sum support local business straight business support',\n",
       " 'best eggtarts town theres really much say hong kong style fastfood restaurant dont come customer service dont come luxurious architecture dont come first date come cheap authentic hong kong dish bakery fresh egg tart',\n",
       " 'ive abc bakery time read top place egg tart nothing beat first time go id give star egg tart unfortunately experience bad bad time ive go fact new ownership explain lot recent visit order bowl wonton noodle slice chinese white honeycomb cake egg tart flat wonton noodle okay get smallerthanaverage wonton bowl lot noodle chop scallion white honeycomb cake decent get fairly large slice suppose star show egg tart extremely disappointing egg tart look biscuit one instead flaky crust ask lady doesnt speak english say new lowfat recipe healthconscious decision wasnt much rise pastry become dense eat egg custard also bland lack flavour sweetness ive never really bad egg tart far bad experience mini dim sum egg tart well even one chinese buffet id say well everything cheap leave unsatisfying experience longtime favourite give try many month id give rating ill give extra star base history previous owner',\n",
       " 'fyi close monday new ownership week new menu classic egg tart hot cook long enough oven something egg tart stick aluminum holder try pry egg tart literally fell apart good nice try new owner enough come back unfortunately previous owner retire great institution long find place become extinct',\n",
       " 'inside look much make mean egg tart good bbq pork buns place old school charm remind bakery cafe grow withtheir lunch menu item also good tend order rice noodle hood']"
      ]
     },
     "execution_count": 12,
     "metadata": {},
     "output_type": "execute_result"
    }
   ],
   "source": [
    "cafes_lemma[:5]"
   ]
  },
  {
   "cell_type": "markdown",
   "metadata": {},
   "source": [
    "## Identify optimal classifier\n",
    "\n",
    "Here, we use all three datasets to identify which classifier to use for further processing. Each dataset is vectorized into train and validation set individually, and all three classifiers are run on the same set."
   ]
  },
  {
   "cell_type": "code",
   "execution_count": 13,
   "metadata": {},
   "outputs": [],
   "source": [
    "#run all classifiers and compare the three\n",
    "def run_classifiers(xa,ya):\n",
    "    \n",
    "    vectorizer=TfidfVectorizer(stop_words=\"english\",min_df = 10)\n",
    "    tfidf_train = vectorizer.fit_transform(xa)\n",
    "    xa = pd.DataFrame(tfidf_train.todense(), columns=vectorizer.get_feature_names())\n",
    "    \n",
    "    classifiers = [RandomForestClassifier(), MultinomialNB(), LogisticRegression()] #list classifiers\n",
    "    x_train, x_test, y_train, y_test = train_test_split(xa,ya, train_size=0.7) #split into train and test\n",
    "    results = pd.DataFrame(columns=['classifier','fp_rate','tp_rate','auc','accuracy'])\n",
    "    \n",
    "    for clf in classifiers: #for each classifier\n",
    "        clf.fit(x_train, y_train)\n",
    "        y_pred = clf.predict(x_test)\n",
    "        y_pred_proba = clf.predict_proba(x_test)\n",
    "        \n",
    "        fpr, tpr, threshold = roc_curve(y_test, y_pred_proba[:,1])\n",
    "        roc_auc = auc(fpr, tpr)\n",
    "        results = results.append({'classifier':clf.__class__.__name__,\n",
    "                                 'fp_rate':fpr, 'tp_rate':tpr,'auc':roc_auc,\n",
    "                                 'accuracy':accuracy_score(y_test,y_pred)}, ignore_index=True)\n",
    "        print(str(clf.__class__.__name__)+\": \")\n",
    "        print(confusion_matrix(y_test,y_pred))\n",
    "        \n",
    "    results.set_index('classifier', inplace=True)\n",
    "\n",
    "    fig = plt.figure(figsize=(8,6))\n",
    "    \n",
    "    for res in results.index:\n",
    "        plt.plot(results.loc[res]['fp_rate'], results.loc[res]['tp_rate'], label=\"{}, AUC={:.3f}\".format(res, results.loc[res]['auc']))\n",
    "        print(str(res)+ \" accuracy: \" + str(results.loc[res]['accuracy']))\n",
    "    \n",
    "    plt.plot([0, 1], [0, 1], color='navy', lw=1.1, linestyle='--')\n",
    "    plt.xlim([0.0, 1.0])\n",
    "    plt.ylim([0.0, 1.05])\n",
    "    plt.xlabel('False Positive Rate')\n",
    "    plt.ylabel('True Positive Rate')\n",
    "    plt.title('Receiver operating characteristic', fontweight='bold')\n",
    "    plt.legend()\n",
    "    plt.show()"
   ]
  },
  {
   "cell_type": "markdown",
   "metadata": {},
   "source": [
    "**All classifiers on cafe data:**"
   ]
  },
  {
   "cell_type": "code",
   "execution_count": 14,
   "metadata": {},
   "outputs": [
    {
     "name": "stdout",
     "output_type": "stream",
     "text": [
      "RandomForestClassifier: \n",
      "[[ 76 106]\n",
      " [ 10 408]]\n",
      "MultinomialNB: \n",
      "[[ 52 130]\n",
      " [  4 414]]\n",
      "LogisticRegression: \n",
      "[[ 64 118]\n",
      " [  4 414]]\n",
      "RandomForestClassifier accuracy: 0.8066666666666666\n",
      "MultinomialNB accuracy: 0.7766666666666666\n",
      "LogisticRegression accuracy: 0.7966666666666666\n"
     ]
    },
    {
     "data": {
      "image/png": "[encoded data removed]",
      "text/plain": [
       "<Figure size 576x432 with 1 Axes>"
      ]
     },
     "metadata": {
      "needs_background": "light"
     },
     "output_type": "display_data"
    }
   ],
   "source": [
    "run_classifiers(cafes_lemma, y_cafe)"
   ]
  },
  {
   "cell_type": "markdown",
   "metadata": {},
   "source": [
    "**All classifiers on hotel data:**"
   ]
  },
  {
   "cell_type": "code",
   "execution_count": 15,
   "metadata": {},
   "outputs": [
    {
     "name": "stdout",
     "output_type": "stream",
     "text": [
      "RandomForestClassifier: \n",
      "[[201  48]\n",
      " [ 20 331]]\n",
      "MultinomialNB: \n",
      "[[197  52]\n",
      " [ 17 334]]\n",
      "LogisticRegression: \n",
      "[[204  45]\n",
      " [ 24 327]]\n",
      "RandomForestClassifier accuracy: 0.8866666666666667\n",
      "MultinomialNB accuracy: 0.885\n",
      "LogisticRegression accuracy: 0.885\n"
     ]
    },
    {
     "data": {
      "image/png": "[encoded data removed]",
      "text/plain": [
       "<Figure size 576x432 with 1 Axes>"
      ]
     },
     "metadata": {
      "needs_background": "light"
     },
     "output_type": "display_data"
    }
   ],
   "source": [
    "run_classifiers(hotels_lemma, y_hotel)"
   ]
  },
  {
   "cell_type": "markdown",
   "metadata": {},
   "source": [
    "**All classifiers on Restaurant Data:**"
   ]
  },
  {
   "cell_type": "code",
   "execution_count": 16,
   "metadata": {
    "scrolled": false
   },
   "outputs": [
    {
     "name": "stdout",
     "output_type": "stream",
     "text": [
      "RandomForestClassifier: \n",
      "[[194  63]\n",
      " [ 34 309]]\n",
      "MultinomialNB: \n",
      "[[186  71]\n",
      " [ 13 330]]\n",
      "LogisticRegression: \n",
      "[[197  60]\n",
      " [ 18 325]]\n",
      "RandomForestClassifier accuracy: 0.8383333333333334\n",
      "MultinomialNB accuracy: 0.86\n",
      "LogisticRegression accuracy: 0.87\n"
     ]
    },
    {
     "data": {
      "image/png": "[encoded data removed]",
      "text/plain": [
       "<Figure size 576x432 with 1 Axes>"
      ]
     },
     "metadata": {
      "needs_background": "light"
     },
     "output_type": "display_data"
    }
   ],
   "source": [
    "run_classifiers(restaurants_lemma, y_restaurant)"
   ]
  },
  {
   "cell_type": "markdown",
   "metadata": {},
   "source": [
    " All three classifiers - RandomForect, MultinomialNB and LogisticRegression, perform well on individual datasets. Logisitc Regression and Multinomial NB performed similarly, with LR giving slightly higher performance. For the rest of the project, ***Logistic Regression*** is used."
   ]
  },
  {
   "cell_type": "markdown",
   "metadata": {},
   "source": [
    "## Evaluating the performance of Logistic Regression Model \n",
    "**When trained on one category and applied to the other two categories.**"
   ]
  },
  {
   "cell_type": "markdown",
   "metadata": {},
   "source": [
    "`vectorize_train_test()` - Function to prepare the train and test datasets - the datasets are vectorised to form tf-idf vector datasets. We use fit and transform on the train dataset to fit the vectorizer, and then transform the two test datasets according to the trained data features. This ensures that features of train and test data are identical for classification."
   ]
  },
  {
   "cell_type": "code",
   "execution_count": 17,
   "metadata": {},
   "outputs": [],
   "source": [
    "#Prepare train and test datasets - convert database of sentences to tf-idf vectors\n",
    "\n",
    "def vectorize_train_test(lem_train, lem_test1, lem_test2):\n",
    "    \n",
    "    vectorizer=TfidfVectorizer(stop_words=\"english\",min_df = 10) #Initialize vectorizer\n",
    "    tfidf_train = vectorizer.fit_transform(lem_train) #Fit and transform on train dataset\n",
    "    X_tfidf_train = pd.DataFrame(tfidf_train.todense(), columns=vectorizer.get_feature_names())\n",
    "    \n",
    "    tfidf_test1 = vectorizer.transform(lem_test1) #Transform test dataset according to the train data\n",
    "    X_tfidf_test1 = pd.DataFrame(tfidf_test1.todense(), columns=vectorizer.get_feature_names())\n",
    "    \n",
    "    tfidf_test2 = vectorizer.transform(lem_test2) #Transform test dataset according to the train data\n",
    "    X_tfidf_test2 = pd.DataFrame(tfidf_test2.todense(), columns=vectorizer.get_feature_names())\n",
    "\n",
    "    return X_tfidf_train, X_tfidf_test1, X_tfidf_test2 #Return the train and testing datasets\n"
   ]
  },
  {
   "cell_type": "markdown",
   "metadata": {},
   "source": [
    "`run_logistic_regression()` - Function to perform logistic regression. We use grid search to find the best solver for the dataset, and using the best model train and test the model."
   ]
  },
  {
   "cell_type": "code",
   "execution_count": 18,
   "metadata": {},
   "outputs": [],
   "source": [
    "def run_logistic_regression(xa, xb, xc, ya, yb, yc):\n",
    "    \n",
    "    #xa is the training data, xb and xc are test datasets\n",
    "    \n",
    "    #Using gridsearch to identify best model for training data\n",
    "    clf = LogisticRegression()\n",
    "    params_grid = [{'solver':['newton-cg','saga','sag','lbfgs'],\n",
    "                   'n_jobs':[-1]}]\n",
    "\n",
    "    my_tuned_model = GridSearchCV(clf, params_grid, verbose = 2, n_jobs=-1)\n",
    "    my_tuned_model.fit(xa, ya)\n",
    "\n",
    "    print(\"Best score and params:\")\n",
    "    print(my_tuned_model.best_score_)\n",
    "    print(my_tuned_model.best_params_)\n",
    "    \n",
    "    #Fit best model on train data\n",
    "    best_model = my_tuned_model.best_estimator_\n",
    "    best_model.fit(xa,ya)\n",
    "    \n",
    "    #Predict positive or negative on other two datasets using the best model\n",
    "    y_predict_b = best_model.predict(xb)\n",
    "    y_predict_c = best_model.predict(xc)\n",
    "    \n",
    "    #Return accuracy scores and outputs\n",
    "    return y_predict_b, y_predict_c"
   ]
  },
  {
   "cell_type": "markdown",
   "metadata": {},
   "source": [
    "Using this function, we train on one dataset, and test on the other two. "
   ]
  },
  {
   "cell_type": "markdown",
   "metadata": {},
   "source": [
    "### Train on Cafes, Test on Hotels and Restaurants"
   ]
  },
  {
   "cell_type": "code",
   "execution_count": 19,
   "metadata": {},
   "outputs": [
    {
     "name": "stdout",
     "output_type": "stream",
     "text": [
      "Fitting 5 folds for each of 4 candidates, totalling 20 fits\n"
     ]
    },
    {
     "name": "stderr",
     "output_type": "stream",
     "text": [
      "[Parallel(n_jobs=-1)]: Using backend LokyBackend with 8 concurrent workers.\n",
      "[Parallel(n_jobs=-1)]: Done  16 out of  20 | elapsed:    2.9s remaining:    0.7s\n",
      "[Parallel(n_jobs=-1)]: Done  20 out of  20 | elapsed:    3.2s finished\n"
     ]
    },
    {
     "name": "stdout",
     "output_type": "stream",
     "text": [
      "Best score and params:\n",
      "0.8414999999999999\n",
      "{'n_jobs': -1, 'solver': 'newton-cg'}\n"
     ]
    }
   ],
   "source": [
    "X_cafe_train, X_hotel_test, X_restaurant_test = vectorize_train_test(cafes_lemma, hotels_lemma, restaurants_lemma)\n",
    "y_pred_hotel, y_pred_restaurant = run_logistic_regression(X_cafe_train, X_hotel_test, X_restaurant_test, y_cafe, y_hotel, y_restaurant)"
   ]
  },
  {
   "cell_type": "markdown",
   "metadata": {},
   "source": [
    "**Hotel data report:**"
   ]
  },
  {
   "cell_type": "code",
   "execution_count": 20,
   "metadata": {},
   "outputs": [
    {
     "name": "stdout",
     "output_type": "stream",
     "text": [
      "              precision    recall  f1-score   support\n",
      "\n",
      "           0       0.87      0.65      0.74       824\n",
      "           1       0.79      0.93      0.86      1176\n",
      "\n",
      "    accuracy                           0.82      2000\n",
      "   macro avg       0.83      0.79      0.80      2000\n",
      "weighted avg       0.82      0.82      0.81      2000\n",
      "\n",
      "[[ 538  286]\n",
      " [  83 1093]]\n"
     ]
    }
   ],
   "source": [
    "print(classification_report(y_hotel, y_pred_hotel))\n",
    "print(confusion_matrix(y_hotel, y_pred_hotel))"
   ]
  },
  {
   "cell_type": "markdown",
   "metadata": {},
   "source": [
    "**Restaurant data report:**"
   ]
  },
  {
   "cell_type": "code",
   "execution_count": 21,
   "metadata": {},
   "outputs": [
    {
     "name": "stdout",
     "output_type": "stream",
     "text": [
      "              precision    recall  f1-score   support\n",
      "\n",
      "           0       0.92      0.63      0.75       838\n",
      "           1       0.78      0.96      0.86      1162\n",
      "\n",
      "    accuracy                           0.82      2000\n",
      "   macro avg       0.85      0.80      0.81      2000\n",
      "weighted avg       0.84      0.82      0.81      2000\n",
      "\n",
      "[[ 538  286]\n",
      " [  83 1093]]\n"
     ]
    }
   ],
   "source": [
    "print(classification_report(y_restaurant, y_pred_restaurant))\n",
    "print(confusion_matrix(y_hotel, y_pred_hotel))"
   ]
  },
  {
   "cell_type": "markdown",
   "metadata": {},
   "source": [
    "### Train on Hotels, Test on Cafes and Restaurants"
   ]
  },
  {
   "cell_type": "code",
   "execution_count": 22,
   "metadata": {},
   "outputs": [
    {
     "name": "stdout",
     "output_type": "stream",
     "text": [
      "Fitting 5 folds for each of 4 candidates, totalling 20 fits\n"
     ]
    },
    {
     "name": "stderr",
     "output_type": "stream",
     "text": [
      "[Parallel(n_jobs=-1)]: Using backend LokyBackend with 8 concurrent workers.\n",
      "[Parallel(n_jobs=-1)]: Done  16 out of  20 | elapsed:    1.8s remaining:    0.4s\n",
      "[Parallel(n_jobs=-1)]: Done  20 out of  20 | elapsed:    2.1s finished\n"
     ]
    },
    {
     "name": "stdout",
     "output_type": "stream",
     "text": [
      "Best score and params:\n",
      "0.884\n",
      "{'n_jobs': -1, 'solver': 'newton-cg'}\n"
     ]
    }
   ],
   "source": [
    "X_hotel_train, X_cafe_test, X_restaurant_test = vectorize_train_test(hotels_lemma, cafes_lemma, restaurants_lemma)\n",
    "y_pred_cafe, y_pred_restaurant = run_logistic_regression(X_hotel_train, X_cafe_test, X_restaurant_test, y_hotel, y_cafe, y_restaurant)"
   ]
  },
  {
   "cell_type": "markdown",
   "metadata": {},
   "source": [
    "**Cafe data report:**"
   ]
  },
  {
   "cell_type": "code",
   "execution_count": 23,
   "metadata": {},
   "outputs": [
    {
     "name": "stdout",
     "output_type": "stream",
     "text": [
      "              precision    recall  f1-score   support\n",
      "\n",
      "           0       0.82      0.58      0.68       538\n",
      "           1       0.86      0.95      0.90      1462\n",
      "\n",
      "    accuracy                           0.85      2000\n",
      "   macro avg       0.84      0.77      0.79      2000\n",
      "weighted avg       0.85      0.85      0.84      2000\n",
      "\n",
      "[[ 312  226]\n",
      " [  70 1392]]\n"
     ]
    }
   ],
   "source": [
    "print(classification_report(y_cafe, y_pred_cafe))\n",
    "print(confusion_matrix(y_cafe, y_pred_cafe))"
   ]
  },
  {
   "cell_type": "markdown",
   "metadata": {},
   "source": [
    "**Restaurant data report:**"
   ]
  },
  {
   "cell_type": "code",
   "execution_count": 24,
   "metadata": {},
   "outputs": [
    {
     "name": "stdout",
     "output_type": "stream",
     "text": [
      "              precision    recall  f1-score   support\n",
      "\n",
      "           0       0.86      0.66      0.74       838\n",
      "           1       0.79      0.92      0.85      1162\n",
      "\n",
      "    accuracy                           0.81      2000\n",
      "   macro avg       0.82      0.79      0.80      2000\n",
      "weighted avg       0.82      0.81      0.81      2000\n",
      "\n",
      "[[ 550  288]\n",
      " [  91 1071]]\n"
     ]
    }
   ],
   "source": [
    "print(classification_report(y_restaurant, y_pred_restaurant))\n",
    "print(confusion_matrix(y_restaurant, y_pred_restaurant))"
   ]
  },
  {
   "cell_type": "markdown",
   "metadata": {},
   "source": [
    "### Train on Restaurants, Test on Cafes and Hotels"
   ]
  },
  {
   "cell_type": "code",
   "execution_count": 25,
   "metadata": {},
   "outputs": [
    {
     "name": "stdout",
     "output_type": "stream",
     "text": [
      "Fitting 5 folds for each of 4 candidates, totalling 20 fits\n"
     ]
    },
    {
     "name": "stderr",
     "output_type": "stream",
     "text": [
      "[Parallel(n_jobs=-1)]: Using backend LokyBackend with 8 concurrent workers.\n",
      "[Parallel(n_jobs=-1)]: Done  16 out of  20 | elapsed:    1.6s remaining:    0.4s\n",
      "[Parallel(n_jobs=-1)]: Done  20 out of  20 | elapsed:    1.9s finished\n"
     ]
    },
    {
     "name": "stdout",
     "output_type": "stream",
     "text": [
      "Best score and params:\n",
      "0.851\n",
      "{'n_jobs': -1, 'solver': 'newton-cg'}\n"
     ]
    }
   ],
   "source": [
    "X_restaurant_train, X_hotel_test, X_cafe_test = vectorize_train_test(restaurants_lemma, hotels_lemma, cafes_lemma)\n",
    "y_pred_hotel, y_pred_cafe = run_logistic_regression(X_restaurant_train, X_hotel_test, X_cafe_test, y_restaurant, y_hotel, y_cafe)"
   ]
  },
  {
   "cell_type": "markdown",
   "metadata": {},
   "source": [
    "**Hotel data report:**"
   ]
  },
  {
   "cell_type": "code",
   "execution_count": 26,
   "metadata": {},
   "outputs": [
    {
     "name": "stdout",
     "output_type": "stream",
     "text": [
      "              precision    recall  f1-score   support\n",
      "\n",
      "           0       0.79      0.86      0.82       824\n",
      "           1       0.90      0.84      0.87      1176\n",
      "\n",
      "    accuracy                           0.85      2000\n",
      "   macro avg       0.84      0.85      0.85      2000\n",
      "weighted avg       0.85      0.85      0.85      2000\n",
      "\n",
      "[[709 115]\n",
      " [189 987]]\n"
     ]
    }
   ],
   "source": [
    "print(classification_report(y_hotel, y_pred_hotel))\n",
    "print(confusion_matrix(y_hotel,y_pred_hotel))"
   ]
  },
  {
   "cell_type": "markdown",
   "metadata": {},
   "source": [
    "**Cafe data report:**"
   ]
  },
  {
   "cell_type": "code",
   "execution_count": 27,
   "metadata": {},
   "outputs": [
    {
     "name": "stdout",
     "output_type": "stream",
     "text": [
      "              precision    recall  f1-score   support\n",
      "\n",
      "           0       0.79      0.74      0.77       538\n",
      "           1       0.91      0.93      0.92      1462\n",
      "\n",
      "    accuracy                           0.88      2000\n",
      "   macro avg       0.85      0.83      0.84      2000\n",
      "weighted avg       0.88      0.88      0.88      2000\n",
      "\n",
      "[[ 399  139]\n",
      " [ 105 1357]]\n"
     ]
    }
   ],
   "source": [
    "print(classification_report(y_cafe, y_pred_cafe))\n",
    "print(confusion_matrix(y_cafe,y_pred_cafe))"
   ]
  },
  {
   "cell_type": "markdown",
   "metadata": {},
   "source": [
    "## Summary and Conclusion\n",
    "\n",
    "We used the bs4 package to scrape review data from a website from three categories. This textual data was then preprocessed using various text pre-processing techniques including stopword-removal, normalization and lemmatization.\n",
    "\n",
    "Then, we used trained and tested three models on each of the three category datasets, and concluded that Logistic Regression performed the best of those, with accuracies of 79.6%, 88.5% and 87% on cafe, hotel and restaurant data respectively.\n",
    "\n",
    "For the next task, we trained the **logistic regression** model on one category, and classified the data of the other two categories. \n",
    "\n",
    "For this task, our data needs to be preprocessed and the shape of features in all three datasets needs to be identical. Initally, I did this by combining the datasets and preprocessing then together, and then seperating into different categories. This was later changed into the current method of using the **vectorizer's transform function** to shape the test data according to the train data - which gave slightly better results than the previous method.\n",
    "\n",
    "Training on **cafe data**, we see similar accuracies of **82%** when the hotel and restaurant data is classified.\n",
    "\n",
    "Training on **hotel data**, we see an accuracy of **85% with cafes**, and **81% with restaurants.**\n",
    "\n",
    "Training on **restaurant data**, we see an accuracy of **85% with hotels**, and **88% with cafes**.\n",
    "\n",
    "There is a **slight bias towards positive ratings** in each model. This is expected as we have not accounted for bias in the dataset while classification.\n",
    "\n",
    "The accuracies of each model lie in a similar range, this might be because all three categories - cafes, restaurants and hotels are pretty similar, so the review text would contain a lot of the same words. This might be different across **different domains**.\n"
   ]
  }
 ],
 "metadata": {
  "kernelspec": {
   "display_name": "Python 3",
   "language": "python",
   "name": "python3"
  },
  "language_info": {
   "codemirror_mode": {
    "name": "ipython",
    "version": 3
   },
   "file_extension": ".py",
   "mimetype": "text/x-python",
   "name": "python",
   "nbconvert_exporter": "python",
   "pygments_lexer": "ipython3",
   "version": "3.8.2"
  }
 },
 "nbformat": 4,
 "nbformat_minor": 4
}
